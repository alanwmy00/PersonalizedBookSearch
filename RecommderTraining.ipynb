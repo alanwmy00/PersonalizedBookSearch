{
 "cells": [
  {
   "cell_type": "markdown",
   "id": "c3b334c6",
   "metadata": {},
   "source": [
    "# Recommender System Training\n",
    "This jupyter notebook trains a Recommender System SVD model, using package Surprise. "
   ]
  },
  {
   "cell_type": "code",
   "execution_count": 1,
   "id": "32028921",
   "metadata": {},
   "outputs": [],
   "source": [
    "import numpy as np, pandas as pd\n",
    "import os\n",
    "import joblib\n",
    "\n",
    "from builtins import range, input\n",
    "\n",
    "import pickle\n",
    "import numpy as np\n",
    "import pandas as pd\n",
    "import surprise\n",
    "from sortedcontainers import SortedList\n",
    "from surprise import NormalPredictor\n",
    "from surprise import Dataset\n",
    "from surprise import Reader\n",
    "from surprise import SVD, CoClustering"
   ]
  },
  {
   "cell_type": "markdown",
   "id": "0d23deac",
   "metadata": {},
   "source": [
    "## Load User-Item Rating Data"
   ]
  },
  {
   "cell_type": "code",
   "execution_count": 5,
   "id": "7c1fb271-a017-4322-9a11-3d0ef847f59c",
   "metadata": {
    "id": "7c1fb271-a017-4322-9a11-3d0ef847f59c"
   },
   "outputs": [],
   "source": [
    "ratings = pd.read_csv(\"goodbooks-10k/ratings.csv\")"
   ]
  },
  {
   "cell_type": "code",
   "execution_count": 6,
   "id": "1fbe07e1-bf2b-4cb8-870e-b1c767e657d1",
   "metadata": {
    "colab": {
     "base_uri": "https://localhost:8080/",
     "height": 423
    },
    "id": "1fbe07e1-bf2b-4cb8-870e-b1c767e657d1",
    "outputId": "cd78dce3-3ce4-4cc8-ec71-23f9a7acb5df"
   },
   "outputs": [
    {
     "data": {
      "text/html": [
       "<div>\n",
       "<style scoped>\n",
       "    .dataframe tbody tr th:only-of-type {\n",
       "        vertical-align: middle;\n",
       "    }\n",
       "\n",
       "    .dataframe tbody tr th {\n",
       "        vertical-align: top;\n",
       "    }\n",
       "\n",
       "    .dataframe thead th {\n",
       "        text-align: right;\n",
       "    }\n",
       "</style>\n",
       "<table border=\"1\" class=\"dataframe\">\n",
       "  <thead>\n",
       "    <tr style=\"text-align: right;\">\n",
       "      <th></th>\n",
       "      <th>user_id</th>\n",
       "      <th>book_id</th>\n",
       "      <th>rating</th>\n",
       "    </tr>\n",
       "  </thead>\n",
       "  <tbody>\n",
       "    <tr>\n",
       "      <th>0</th>\n",
       "      <td>1</td>\n",
       "      <td>258</td>\n",
       "      <td>5</td>\n",
       "    </tr>\n",
       "    <tr>\n",
       "      <th>1</th>\n",
       "      <td>2</td>\n",
       "      <td>4081</td>\n",
       "      <td>4</td>\n",
       "    </tr>\n",
       "    <tr>\n",
       "      <th>2</th>\n",
       "      <td>2</td>\n",
       "      <td>260</td>\n",
       "      <td>5</td>\n",
       "    </tr>\n",
       "    <tr>\n",
       "      <th>3</th>\n",
       "      <td>2</td>\n",
       "      <td>9296</td>\n",
       "      <td>5</td>\n",
       "    </tr>\n",
       "    <tr>\n",
       "      <th>4</th>\n",
       "      <td>2</td>\n",
       "      <td>2318</td>\n",
       "      <td>3</td>\n",
       "    </tr>\n",
       "  </tbody>\n",
       "</table>\n",
       "</div>"
      ],
      "text/plain": [
       "   user_id  book_id  rating\n",
       "0        1      258       5\n",
       "1        2     4081       4\n",
       "2        2      260       5\n",
       "3        2     9296       5\n",
       "4        2     2318       3"
      ]
     },
     "execution_count": 6,
     "metadata": {},
     "output_type": "execute_result"
    }
   ],
   "source": [
    "ratings.head()"
   ]
  },
  {
   "cell_type": "markdown",
   "id": "0df7098c",
   "metadata": {},
   "source": [
    "## Load Model"
   ]
  },
  {
   "cell_type": "code",
   "execution_count": 7,
   "id": "a89fe76d-5be2-49e8-aba4-13017c6072e8",
   "metadata": {
    "id": "a89fe76d-5be2-49e8-aba4-13017c6072e8"
   },
   "outputs": [],
   "source": [
    "import Recommender as Recom\n",
    "\n",
    "recom = Recom.Recommender()"
   ]
  },
  {
   "cell_type": "code",
   "execution_count": 10,
   "id": "2518a0a4-2f80-4b16-bf6e-d9650892c49f",
   "metadata": {
    "colab": {
     "base_uri": "https://localhost:8080/"
    },
    "id": "2518a0a4-2f80-4b16-bf6e-d9650892c49f",
    "outputId": "44a8d238-e70d-4c1b-d04a-84860673ede4",
    "tags": []
   },
   "outputs": [],
   "source": [
    "recom.fit(train_X=np.array(ratings.iloc[:,:2]), train_y=np.array(ratings.iloc[:, 2]))"
   ]
  },
  {
   "cell_type": "markdown",
   "id": "5b8106cd",
   "metadata": {},
   "source": [
    "## Evaluate Recommender Model"
   ]
  },
  {
   "cell_type": "code",
   "execution_count": 11,
   "id": "UqS032U2WRVy",
   "metadata": {
    "id": "UqS032U2WRVy"
   },
   "outputs": [],
   "source": [
    "from sklearn.metrics import mean_squared_error, r2_score, mean_absolute_error"
   ]
  },
  {
   "cell_type": "code",
   "execution_count": 12,
   "id": "7723b3d6-5825-48e1-96ca-8a1b7b0f0121",
   "metadata": {
    "id": "7723b3d6-5825-48e1-96ca-8a1b7b0f0121"
   },
   "outputs": [],
   "source": [
    "def score(test_data, predictions):\n",
    "    rmse = mean_squared_error(test_data, predictions, squared=False)\n",
    "    mae = mean_absolute_error(test_data, predictions)\n",
    "    r2 = r2_score(test_data, predictions)\n",
    "    \n",
    "    q3, q1 = np.percentile(predictions, [75, 25])\n",
    "    iqr = q3 - q1\n",
    "    nmae = mae / iqr\n",
    "    scores = {\n",
    "        \"rmse\": np.round(rmse,4), \n",
    "        \"mae\": np.round(mae,4),\n",
    "        \"nmae\": np.round(nmae,4),\n",
    "        \"r2\": np.round(r2,4),\n",
    "        \"perc_pred_missing\": np.round( 100 * (1 - predictions.shape[0] / test_data.shape[0]), 2)\n",
    "        }\n",
    "    return scores"
   ]
  },
  {
   "cell_type": "code",
   "execution_count": 14,
   "id": "911d8d18",
   "metadata": {},
   "outputs": [],
   "source": [
    "preds = recom.predict(np.array(ratings.iloc[:, :2]))"
   ]
  },
  {
   "cell_type": "code",
   "execution_count": 15,
   "id": "3YeIo69iUk3S",
   "metadata": {
    "colab": {
     "base_uri": "https://localhost:8080/"
    },
    "id": "3YeIo69iUk3S",
    "outputId": "7d4af789-5c80-47f6-b779-365dbbc64fa0"
   },
   "outputs": [
    {
     "data": {
      "text/plain": [
       "{'rmse': 0.6448,\n",
       " 'mae': 0.4981,\n",
       " 'nmae': 0.604,\n",
       " 'r2': 0.5767,\n",
       " 'perc_pred_missing': 0.0}"
      ]
     },
     "execution_count": 15,
     "metadata": {},
     "output_type": "execute_result"
    }
   ],
   "source": [
    "score(ratings.iloc[:, 2], preds)"
   ]
  },
  {
   "cell_type": "markdown",
   "id": "ec1483f4",
   "metadata": {},
   "source": [
    "## Save Model Weights"
   ]
  },
  {
   "cell_type": "code",
   "execution_count": 19,
   "id": "yudJMeFDd80F",
   "metadata": {
    "id": "yudJMeFDd80F"
   },
   "outputs": [],
   "source": [
    "recom.save(\"model\")"
   ]
  }
 ],
 "metadata": {
  "accelerator": "GPU",
  "colab": {
   "collapsed_sections": [],
   "machine_shape": "hm",
   "provenance": []
  },
  "gpuClass": "standard",
  "kernelspec": {
   "display_name": "Python 3 (ipykernel)",
   "language": "python",
   "name": "python3"
  },
  "language_info": {
   "codemirror_mode": {
    "name": "ipython",
    "version": 3
   },
   "file_extension": ".py",
   "mimetype": "text/x-python",
   "name": "python",
   "nbconvert_exporter": "python",
   "pygments_lexer": "ipython3",
   "version": "3.10.7"
  },
  "toc": {
   "base_numbering": 1,
   "nav_menu": {},
   "number_sections": false,
   "sideBar": true,
   "skip_h1_title": false,
   "title_cell": "Table of Contents",
   "title_sidebar": "Contents",
   "toc_cell": false,
   "toc_position": {},
   "toc_section_display": true,
   "toc_window_display": false
  },
  "vscode": {
   "interpreter": {
    "hash": "15a3a1d02b16c5f0f7818f79310520e3bf618f6f01b420b9dd242659c73da7ae"
   }
  }
 },
 "nbformat": 4,
 "nbformat_minor": 5
}
