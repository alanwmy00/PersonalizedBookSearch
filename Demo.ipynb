{
 "cells": [
  {
   "cell_type": "markdown",
   "metadata": {
    "pycharm": {
     "name": "#%% md\n"
    }
   },
   "source": [
    "# Demo"
   ]
  },
  {
   "cell_type": "code",
   "execution_count": 1,
   "metadata": {
    "pycharm": {
     "name": "#%%\n"
    }
   },
   "outputs": [],
   "source": [
    "import warnings\n",
    "warnings.filterwarnings(\"ignore\")"
   ]
  },
  {
   "cell_type": "code",
   "execution_count": 2,
   "metadata": {
    "pycharm": {
     "name": "#%%\n"
    }
   },
   "outputs": [],
   "source": [
    "import SearchEngine as SE\n",
    "search_eng = SE.SearchEngine() # initialize a search engine"
   ]
  },
  {
   "cell_type": "markdown",
   "metadata": {
    "pycharm": {
     "name": "#%% md\n"
    }
   },
   "source": [
    "## Search Title"
   ]
  },
  {
   "cell_type": "code",
   "execution_count": 3,
   "metadata": {
    "pycharm": {
     "name": "#%%\n"
    }
   },
   "outputs": [],
   "source": [
    "res = search_eng.query(user_id=904, text=\"i love you\", K=10_000, save_res=False) # we set K = 1e4 here just for demo purpose, \n",
    "# so we can see the tail of all books. This K is set to 20 by default, retrieving top 20 recommendations."
   ]
  },
  {
   "cell_type": "code",
   "execution_count": 4,
   "metadata": {
    "pycharm": {
     "name": "#%%\n"
    }
   },
   "outputs": [
    {
     "data": {
      "text/plain": "    book_id                                            authors  \\\n0      8648  Bernadette Rossetti-Shustak, Caroline Jayne Ch...   \n1      3741                                       Lisa Gardner   \n2       608                       Robert Munsch, Sheila McGraw   \n3       863                         Sam McBratney, Anita Jeram   \n4      6402                                Cecily von Ziegesar   \n5       269                                      Cecelia Ahern   \n6       656                                        Ally Carter   \n7      2112                                          Jenny Han   \n8      9423                                      Sarra Manning   \n9      3401                                    Jennifer Weiner   \n10     2051                                     Katherine Dunn   \n11     7636                         Durjoy Datta, Maanvi Ahuja   \n12     2813                                    Caroline Kepnes   \n13     8479                                      Siri Hustvedt   \n14     6242                                     Louise Erdrich   \n15     4444                                   Raymond Chandler   \n16     7051                                     Laurelin Paige   \n17     9523                                    Chuck Palahniuk   \n18     8137                                      Tarryn Fisher   \n19     3830                                      Sharon Creech   \n\n                                                title        isbn13  \\\n0                      I Love You Through And Through  9.780440e+12   \n1                                       Love You More  9.780554e+12   \n2                                    Love You Forever  9.780921e+12   \n3                           Guess How Much I Love You  9.780764e+12   \n4                                You Know You Love Me  9.780317e+12   \n5                                      PS, I Love You  9.780787e+12   \n6   I'd Tell You I Love You, But Then I'd Have to ...  9.781423e+12   \n7                               P.S. I Still Love You  9.781442e+12   \n8                   You Don't Have to Say You Love Me  9.780552e+12   \n9                                     Who Do You Love  9.781452e+12   \n10                                          Geek Love  9.780376e+12   \n11                               of course i love you  9.788189e+12   \n12                                                You  9.781477e+12   \n13                                       What I Loved  9.780341e+12   \n14                                      Love Medicine  9.780061e+12   \n15                                Farewell, My Lovely  9.780395e+12   \n16                                   Forever with You           NaN   \n17                                      Beautiful You  9.780386e+12   \n18                                          F*ck Love           NaN   \n19                                      Love That Dog  9.780064e+12   \n\n    in_to_read_list  final_score  \n0             False     2.731939  \n1             False     2.591963  \n2             False     2.535250  \n3             False     2.452524  \n4             False     2.450719  \n5             False     2.387713  \n6             False     2.095345  \n7             False     1.983324  \n8             False     1.965195  \n9             False     1.811071  \n10            False     1.692519  \n11            False     1.679624  \n12            False     1.667742  \n13            False     1.667159  \n14            False     1.614304  \n15            False     1.593087  \n16            False     1.588062  \n17            False     1.586447  \n18            False     1.578737  \n19            False     1.569938  ",
      "text/html": "<div>\n<style scoped>\n    .dataframe tbody tr th:only-of-type {\n        vertical-align: middle;\n    }\n\n    .dataframe tbody tr th {\n        vertical-align: top;\n    }\n\n    .dataframe thead th {\n        text-align: right;\n    }\n</style>\n<table border=\"1\" class=\"dataframe\">\n  <thead>\n    <tr style=\"text-align: right;\">\n      <th></th>\n      <th>book_id</th>\n      <th>authors</th>\n      <th>title</th>\n      <th>isbn13</th>\n      <th>in_to_read_list</th>\n      <th>final_score</th>\n    </tr>\n  </thead>\n  <tbody>\n    <tr>\n      <th>0</th>\n      <td>8648</td>\n      <td>Bernadette Rossetti-Shustak, Caroline Jayne Ch...</td>\n      <td>I Love You Through And Through</td>\n      <td>9.780440e+12</td>\n      <td>False</td>\n      <td>2.731939</td>\n    </tr>\n    <tr>\n      <th>1</th>\n      <td>3741</td>\n      <td>Lisa Gardner</td>\n      <td>Love You More</td>\n      <td>9.780554e+12</td>\n      <td>False</td>\n      <td>2.591963</td>\n    </tr>\n    <tr>\n      <th>2</th>\n      <td>608</td>\n      <td>Robert Munsch, Sheila McGraw</td>\n      <td>Love You Forever</td>\n      <td>9.780921e+12</td>\n      <td>False</td>\n      <td>2.535250</td>\n    </tr>\n    <tr>\n      <th>3</th>\n      <td>863</td>\n      <td>Sam McBratney, Anita Jeram</td>\n      <td>Guess How Much I Love You</td>\n      <td>9.780764e+12</td>\n      <td>False</td>\n      <td>2.452524</td>\n    </tr>\n    <tr>\n      <th>4</th>\n      <td>6402</td>\n      <td>Cecily von Ziegesar</td>\n      <td>You Know You Love Me</td>\n      <td>9.780317e+12</td>\n      <td>False</td>\n      <td>2.450719</td>\n    </tr>\n    <tr>\n      <th>5</th>\n      <td>269</td>\n      <td>Cecelia Ahern</td>\n      <td>PS, I Love You</td>\n      <td>9.780787e+12</td>\n      <td>False</td>\n      <td>2.387713</td>\n    </tr>\n    <tr>\n      <th>6</th>\n      <td>656</td>\n      <td>Ally Carter</td>\n      <td>I'd Tell You I Love You, But Then I'd Have to ...</td>\n      <td>9.781423e+12</td>\n      <td>False</td>\n      <td>2.095345</td>\n    </tr>\n    <tr>\n      <th>7</th>\n      <td>2112</td>\n      <td>Jenny Han</td>\n      <td>P.S. I Still Love You</td>\n      <td>9.781442e+12</td>\n      <td>False</td>\n      <td>1.983324</td>\n    </tr>\n    <tr>\n      <th>8</th>\n      <td>9423</td>\n      <td>Sarra Manning</td>\n      <td>You Don't Have to Say You Love Me</td>\n      <td>9.780552e+12</td>\n      <td>False</td>\n      <td>1.965195</td>\n    </tr>\n    <tr>\n      <th>9</th>\n      <td>3401</td>\n      <td>Jennifer Weiner</td>\n      <td>Who Do You Love</td>\n      <td>9.781452e+12</td>\n      <td>False</td>\n      <td>1.811071</td>\n    </tr>\n    <tr>\n      <th>10</th>\n      <td>2051</td>\n      <td>Katherine Dunn</td>\n      <td>Geek Love</td>\n      <td>9.780376e+12</td>\n      <td>False</td>\n      <td>1.692519</td>\n    </tr>\n    <tr>\n      <th>11</th>\n      <td>7636</td>\n      <td>Durjoy Datta, Maanvi Ahuja</td>\n      <td>of course i love you</td>\n      <td>9.788189e+12</td>\n      <td>False</td>\n      <td>1.679624</td>\n    </tr>\n    <tr>\n      <th>12</th>\n      <td>2813</td>\n      <td>Caroline Kepnes</td>\n      <td>You</td>\n      <td>9.781477e+12</td>\n      <td>False</td>\n      <td>1.667742</td>\n    </tr>\n    <tr>\n      <th>13</th>\n      <td>8479</td>\n      <td>Siri Hustvedt</td>\n      <td>What I Loved</td>\n      <td>9.780341e+12</td>\n      <td>False</td>\n      <td>1.667159</td>\n    </tr>\n    <tr>\n      <th>14</th>\n      <td>6242</td>\n      <td>Louise Erdrich</td>\n      <td>Love Medicine</td>\n      <td>9.780061e+12</td>\n      <td>False</td>\n      <td>1.614304</td>\n    </tr>\n    <tr>\n      <th>15</th>\n      <td>4444</td>\n      <td>Raymond Chandler</td>\n      <td>Farewell, My Lovely</td>\n      <td>9.780395e+12</td>\n      <td>False</td>\n      <td>1.593087</td>\n    </tr>\n    <tr>\n      <th>16</th>\n      <td>7051</td>\n      <td>Laurelin Paige</td>\n      <td>Forever with You</td>\n      <td>NaN</td>\n      <td>False</td>\n      <td>1.588062</td>\n    </tr>\n    <tr>\n      <th>17</th>\n      <td>9523</td>\n      <td>Chuck Palahniuk</td>\n      <td>Beautiful You</td>\n      <td>9.780386e+12</td>\n      <td>False</td>\n      <td>1.586447</td>\n    </tr>\n    <tr>\n      <th>18</th>\n      <td>8137</td>\n      <td>Tarryn Fisher</td>\n      <td>F*ck Love</td>\n      <td>NaN</td>\n      <td>False</td>\n      <td>1.578737</td>\n    </tr>\n    <tr>\n      <th>19</th>\n      <td>3830</td>\n      <td>Sharon Creech</td>\n      <td>Love That Dog</td>\n      <td>9.780064e+12</td>\n      <td>False</td>\n      <td>1.569938</td>\n    </tr>\n  </tbody>\n</table>\n</div>"
     },
     "execution_count": 4,
     "metadata": {},
     "output_type": "execute_result"
    }
   ],
   "source": [
    "res.head(20) # top recommended books"
   ]
  },
  {
   "cell_type": "code",
   "execution_count": 5,
   "metadata": {
    "pycharm": {
     "name": "#%%\n"
    }
   },
   "outputs": [
    {
     "data": {
      "text/plain": "      book_id                                         authors  \\\n9995     9762           Robert T. Kiyosaki, Sharon L. Lechter   \n9996     2015                             Robert James Waller   \n9997      636                                  Mark Cotta Vaz   \n9998     9755                                  Pepper Winters   \n9999      992  Stephenie Meyer, Ilyana Kadushin, Matt Walters   \n\n                                                  title        isbn13  \\\n9995  Rich Dad's Guide to Investing: What the Rich I...  9.780447e+12   \n9996                      The Bridges of Madison County  9.780446e+12   \n9997  The Twilight Saga Breaking Dawn Part 1: The Of...  9.780316e+12   \n9998                                   Debt Inheritance  9.781501e+12   \n9999                                  The Twilight Saga  9.780739e+12   \n\n      in_to_read_list  final_score  \n9995            False     0.137113  \n9996            False     0.135583  \n9997            False     0.133925  \n9998            False     0.128886  \n9999            False     0.127241  ",
      "text/html": "<div>\n<style scoped>\n    .dataframe tbody tr th:only-of-type {\n        vertical-align: middle;\n    }\n\n    .dataframe tbody tr th {\n        vertical-align: top;\n    }\n\n    .dataframe thead th {\n        text-align: right;\n    }\n</style>\n<table border=\"1\" class=\"dataframe\">\n  <thead>\n    <tr style=\"text-align: right;\">\n      <th></th>\n      <th>book_id</th>\n      <th>authors</th>\n      <th>title</th>\n      <th>isbn13</th>\n      <th>in_to_read_list</th>\n      <th>final_score</th>\n    </tr>\n  </thead>\n  <tbody>\n    <tr>\n      <th>9995</th>\n      <td>9762</td>\n      <td>Robert T. Kiyosaki, Sharon L. Lechter</td>\n      <td>Rich Dad's Guide to Investing: What the Rich I...</td>\n      <td>9.780447e+12</td>\n      <td>False</td>\n      <td>0.137113</td>\n    </tr>\n    <tr>\n      <th>9996</th>\n      <td>2015</td>\n      <td>Robert James Waller</td>\n      <td>The Bridges of Madison County</td>\n      <td>9.780446e+12</td>\n      <td>False</td>\n      <td>0.135583</td>\n    </tr>\n    <tr>\n      <th>9997</th>\n      <td>636</td>\n      <td>Mark Cotta Vaz</td>\n      <td>The Twilight Saga Breaking Dawn Part 1: The Of...</td>\n      <td>9.780316e+12</td>\n      <td>False</td>\n      <td>0.133925</td>\n    </tr>\n    <tr>\n      <th>9998</th>\n      <td>9755</td>\n      <td>Pepper Winters</td>\n      <td>Debt Inheritance</td>\n      <td>9.781501e+12</td>\n      <td>False</td>\n      <td>0.128886</td>\n    </tr>\n    <tr>\n      <th>9999</th>\n      <td>992</td>\n      <td>Stephenie Meyer, Ilyana Kadushin, Matt Walters</td>\n      <td>The Twilight Saga</td>\n      <td>9.780739e+12</td>\n      <td>False</td>\n      <td>0.127241</td>\n    </tr>\n  </tbody>\n</table>\n</div>"
     },
     "execution_count": 5,
     "metadata": {},
     "output_type": "execute_result"
    }
   ],
   "source": [
    "res.tail() # least recommended books"
   ]
  },
  {
   "cell_type": "markdown",
   "metadata": {
    "pycharm": {
     "name": "#%% md\n"
    }
   },
   "source": [
    "## Search Author \n",
    "\n",
    "The model would also recognize if an author name shows up in the query, thus recommending more books by the given author(s)."
   ]
  },
  {
   "cell_type": "code",
   "execution_count": 6,
   "metadata": {
    "pycharm": {
     "name": "#%%\n"
    }
   },
   "outputs": [],
   "source": [
    "res2 = search_eng.query(user_id=309, text=\"Louisa May Alcott\", K=10_000, save_res=False)"
   ]
  },
  {
   "cell_type": "code",
   "execution_count": 7,
   "metadata": {
    "pycharm": {
     "name": "#%%\n"
    }
   },
   "outputs": [
    {
     "data": {
      "text/plain": "    book_id                       authors  \\\n0        42             Louisa May Alcott   \n1      3580             Louisa May Alcott   \n2      8888             Louisa May Alcott   \n3      7430             Louisa May Alcott   \n4      5458             Louisa May Alcott   \n5      4645             Louisa May Alcott   \n6      8740             Louisa May Alcott   \n7       184     Roald Dahl, Quentin Blake   \n8      1210               L.M. Montgomery   \n9      5086                   Alison Weir   \n10     8618                Antonia Fraser   \n11     7015  Stephen King, Michael Whelan   \n12     5103                  Daniel Silva   \n13     3904               L.M. Montgomery   \n14     6090                   Sarah McCoy   \n15     3302              Juliet Marillier   \n16     1198              Hanya Yanagihara   \n17     9113              Carolly Erickson   \n18     5880           Megan Whalen Turner   \n19     1222    E.B. White, Garth Williams   \n\n                                                title        isbn13  \\\n0                                        Little Women  9.780452e+12   \n1     Little Men, or Life at Plumfield with Jo's Boys  9.781407e+12   \n2                               An Old-Fashioned Girl  9.781407e+12   \n3                                       Rose in Bloom  9.780316e+12   \n4   Jo's Boys, and How They Turned Out: A Sequel t...  9.781407e+12   \n5                                       Eight Cousins  9.780486e+12   \n6                                          Good Wives  9.781419e+12   \n7                                             Matilda  9.780141e+12   \n8                                     Anne of Avonlea  9.780553e+12   \n9                                  The Lady Elizabeth  9.780345e+12   \n10                            The Wives of Henry VIII  9.780680e+12   \n11                       The Little Sisters of Eluria  9.781880e+12   \n12                                   The English Girl  9.780062e+12   \n13                                  Anne of Ingleside  9.780553e+12   \n14                               The Baker's Daughter  9.780307e+12   \n15                             Daughter of the Forest  9.780765e+12   \n16                                      A Little Life  9.780386e+12   \n17                        The Last Wife of Henry VIII  9.780312e+12   \n18                               The Queen of Attolia  9.780061e+12   \n19                                      Stuart Little  9.780064e+12   \n\n    in_to_read_list  final_score  \n0             False    34.348733  \n1             False    27.551674  \n2             False    25.631115  \n3             False    24.009470  \n4             False    14.770690  \n5             False    14.577676  \n6             False    12.257887  \n7             False     1.961975  \n8             False     1.785306  \n9             False     1.639275  \n10            False     1.593112  \n11            False     1.546178  \n12            False     1.539480  \n13            False     1.532296  \n14            False     1.488857  \n15            False     1.484350  \n16             True     1.478202  \n17            False     1.462368  \n18            False     1.455489  \n19            False     1.448299  ",
      "text/html": "<div>\n<style scoped>\n    .dataframe tbody tr th:only-of-type {\n        vertical-align: middle;\n    }\n\n    .dataframe tbody tr th {\n        vertical-align: top;\n    }\n\n    .dataframe thead th {\n        text-align: right;\n    }\n</style>\n<table border=\"1\" class=\"dataframe\">\n  <thead>\n    <tr style=\"text-align: right;\">\n      <th></th>\n      <th>book_id</th>\n      <th>authors</th>\n      <th>title</th>\n      <th>isbn13</th>\n      <th>in_to_read_list</th>\n      <th>final_score</th>\n    </tr>\n  </thead>\n  <tbody>\n    <tr>\n      <th>0</th>\n      <td>42</td>\n      <td>Louisa May Alcott</td>\n      <td>Little Women</td>\n      <td>9.780452e+12</td>\n      <td>False</td>\n      <td>34.348733</td>\n    </tr>\n    <tr>\n      <th>1</th>\n      <td>3580</td>\n      <td>Louisa May Alcott</td>\n      <td>Little Men, or Life at Plumfield with Jo's Boys</td>\n      <td>9.781407e+12</td>\n      <td>False</td>\n      <td>27.551674</td>\n    </tr>\n    <tr>\n      <th>2</th>\n      <td>8888</td>\n      <td>Louisa May Alcott</td>\n      <td>An Old-Fashioned Girl</td>\n      <td>9.781407e+12</td>\n      <td>False</td>\n      <td>25.631115</td>\n    </tr>\n    <tr>\n      <th>3</th>\n      <td>7430</td>\n      <td>Louisa May Alcott</td>\n      <td>Rose in Bloom</td>\n      <td>9.780316e+12</td>\n      <td>False</td>\n      <td>24.009470</td>\n    </tr>\n    <tr>\n      <th>4</th>\n      <td>5458</td>\n      <td>Louisa May Alcott</td>\n      <td>Jo's Boys, and How They Turned Out: A Sequel t...</td>\n      <td>9.781407e+12</td>\n      <td>False</td>\n      <td>14.770690</td>\n    </tr>\n    <tr>\n      <th>5</th>\n      <td>4645</td>\n      <td>Louisa May Alcott</td>\n      <td>Eight Cousins</td>\n      <td>9.780486e+12</td>\n      <td>False</td>\n      <td>14.577676</td>\n    </tr>\n    <tr>\n      <th>6</th>\n      <td>8740</td>\n      <td>Louisa May Alcott</td>\n      <td>Good Wives</td>\n      <td>9.781419e+12</td>\n      <td>False</td>\n      <td>12.257887</td>\n    </tr>\n    <tr>\n      <th>7</th>\n      <td>184</td>\n      <td>Roald Dahl, Quentin Blake</td>\n      <td>Matilda</td>\n      <td>9.780141e+12</td>\n      <td>False</td>\n      <td>1.961975</td>\n    </tr>\n    <tr>\n      <th>8</th>\n      <td>1210</td>\n      <td>L.M. Montgomery</td>\n      <td>Anne of Avonlea</td>\n      <td>9.780553e+12</td>\n      <td>False</td>\n      <td>1.785306</td>\n    </tr>\n    <tr>\n      <th>9</th>\n      <td>5086</td>\n      <td>Alison Weir</td>\n      <td>The Lady Elizabeth</td>\n      <td>9.780345e+12</td>\n      <td>False</td>\n      <td>1.639275</td>\n    </tr>\n    <tr>\n      <th>10</th>\n      <td>8618</td>\n      <td>Antonia Fraser</td>\n      <td>The Wives of Henry VIII</td>\n      <td>9.780680e+12</td>\n      <td>False</td>\n      <td>1.593112</td>\n    </tr>\n    <tr>\n      <th>11</th>\n      <td>7015</td>\n      <td>Stephen King, Michael Whelan</td>\n      <td>The Little Sisters of Eluria</td>\n      <td>9.781880e+12</td>\n      <td>False</td>\n      <td>1.546178</td>\n    </tr>\n    <tr>\n      <th>12</th>\n      <td>5103</td>\n      <td>Daniel Silva</td>\n      <td>The English Girl</td>\n      <td>9.780062e+12</td>\n      <td>False</td>\n      <td>1.539480</td>\n    </tr>\n    <tr>\n      <th>13</th>\n      <td>3904</td>\n      <td>L.M. Montgomery</td>\n      <td>Anne of Ingleside</td>\n      <td>9.780553e+12</td>\n      <td>False</td>\n      <td>1.532296</td>\n    </tr>\n    <tr>\n      <th>14</th>\n      <td>6090</td>\n      <td>Sarah McCoy</td>\n      <td>The Baker's Daughter</td>\n      <td>9.780307e+12</td>\n      <td>False</td>\n      <td>1.488857</td>\n    </tr>\n    <tr>\n      <th>15</th>\n      <td>3302</td>\n      <td>Juliet Marillier</td>\n      <td>Daughter of the Forest</td>\n      <td>9.780765e+12</td>\n      <td>False</td>\n      <td>1.484350</td>\n    </tr>\n    <tr>\n      <th>16</th>\n      <td>1198</td>\n      <td>Hanya Yanagihara</td>\n      <td>A Little Life</td>\n      <td>9.780386e+12</td>\n      <td>True</td>\n      <td>1.478202</td>\n    </tr>\n    <tr>\n      <th>17</th>\n      <td>9113</td>\n      <td>Carolly Erickson</td>\n      <td>The Last Wife of Henry VIII</td>\n      <td>9.780312e+12</td>\n      <td>False</td>\n      <td>1.462368</td>\n    </tr>\n    <tr>\n      <th>18</th>\n      <td>5880</td>\n      <td>Megan Whalen Turner</td>\n      <td>The Queen of Attolia</td>\n      <td>9.780061e+12</td>\n      <td>False</td>\n      <td>1.455489</td>\n    </tr>\n    <tr>\n      <th>19</th>\n      <td>1222</td>\n      <td>E.B. White, Garth Williams</td>\n      <td>Stuart Little</td>\n      <td>9.780064e+12</td>\n      <td>False</td>\n      <td>1.448299</td>\n    </tr>\n  </tbody>\n</table>\n</div>"
     },
     "execution_count": 7,
     "metadata": {},
     "output_type": "execute_result"
    }
   ],
   "source": [
    "res2.head(20)"
   ]
  },
  {
   "cell_type": "code",
   "execution_count": 8,
   "metadata": {
    "pycharm": {
     "name": "#%%\n"
    }
   },
   "outputs": [
    {
     "data": {
      "text/plain": "      book_id              authors                                   title  \\\n9995     4282      Chuck Palahniuk                                   Pygmy   \n9996     2283  Alexandra Adornetto                                    Halo   \n9997     4283    Lauren Weisberger  Revenge Wears Prada: The Devil Returns   \n9998     8874      Chuck Palahniuk                                Tell-All   \n9999       52      Stephenie Meyer                                 Eclipse   \n\n            isbn13  in_to_read_list  final_score  \n9995  9.780386e+12            False     0.111295  \n9996  9.780313e+12            False     0.111142  \n9997  9.781439e+12            False     0.106360  \n9998  9.780386e+12            False     0.099585  \n9999  9.780316e+12            False     0.096276  ",
      "text/html": "<div>\n<style scoped>\n    .dataframe tbody tr th:only-of-type {\n        vertical-align: middle;\n    }\n\n    .dataframe tbody tr th {\n        vertical-align: top;\n    }\n\n    .dataframe thead th {\n        text-align: right;\n    }\n</style>\n<table border=\"1\" class=\"dataframe\">\n  <thead>\n    <tr style=\"text-align: right;\">\n      <th></th>\n      <th>book_id</th>\n      <th>authors</th>\n      <th>title</th>\n      <th>isbn13</th>\n      <th>in_to_read_list</th>\n      <th>final_score</th>\n    </tr>\n  </thead>\n  <tbody>\n    <tr>\n      <th>9995</th>\n      <td>4282</td>\n      <td>Chuck Palahniuk</td>\n      <td>Pygmy</td>\n      <td>9.780386e+12</td>\n      <td>False</td>\n      <td>0.111295</td>\n    </tr>\n    <tr>\n      <th>9996</th>\n      <td>2283</td>\n      <td>Alexandra Adornetto</td>\n      <td>Halo</td>\n      <td>9.780313e+12</td>\n      <td>False</td>\n      <td>0.111142</td>\n    </tr>\n    <tr>\n      <th>9997</th>\n      <td>4283</td>\n      <td>Lauren Weisberger</td>\n      <td>Revenge Wears Prada: The Devil Returns</td>\n      <td>9.781439e+12</td>\n      <td>False</td>\n      <td>0.106360</td>\n    </tr>\n    <tr>\n      <th>9998</th>\n      <td>8874</td>\n      <td>Chuck Palahniuk</td>\n      <td>Tell-All</td>\n      <td>9.780386e+12</td>\n      <td>False</td>\n      <td>0.099585</td>\n    </tr>\n    <tr>\n      <th>9999</th>\n      <td>52</td>\n      <td>Stephenie Meyer</td>\n      <td>Eclipse</td>\n      <td>9.780316e+12</td>\n      <td>False</td>\n      <td>0.096276</td>\n    </tr>\n  </tbody>\n</table>\n</div>"
     },
     "execution_count": 8,
     "metadata": {},
     "output_type": "execute_result"
    }
   ],
   "source": [
    "res2.tail()"
   ]
  },
  {
   "cell_type": "markdown",
   "metadata": {
    "pycharm": {
     "name": "#%% md\n"
    }
   },
   "source": [
    "## Multiligual Support\n",
    "Our model would also return non-English books!"
   ]
  },
  {
   "cell_type": "code",
   "execution_count": 9,
   "metadata": {
    "pycharm": {
     "name": "#%%\n"
    }
   },
   "outputs": [],
   "source": [
    "noneng = search_eng.query(user_id=907, text=\"education\", K=20, save_res=False)"
   ]
  },
  {
   "cell_type": "code",
   "execution_count": 10,
   "metadata": {
    "pycharm": {
     "name": "#%%\n"
    }
   },
   "outputs": [
    {
     "data": {
      "text/plain": "    book_id                                          authors  \\\n0      7952  Gustave Flaubert, Robert Baldick, Geoffrey Wall   \n1      5452                                    Gordon Korman   \n2      2881                                  Terry Pratchett   \n3      4501         Esther Hicks, Jerry Hicks, Wayne W. Dyer   \n4      6452                          Tachibana Higuchi, 樋口 橘   \n5      3966                                    Frank McCourt   \n6      3949                                        Aristotle   \n7      4875                             Lee Child, Dick Hill   \n8      6274                                   Jonathan Kozol   \n9      6184                                      Martin Amis   \n10     2886                                   Soman Chainani   \n11     9006                                   Forrest Carter   \n12     3654                                  Terry Pratchett   \n13     4680                                     Nora Roberts   \n14     4925                                  Terry Pratchett   \n15     8173                  Michael Buckley, Peter Ferguson   \n16     3392                                      J.I. Packer   \n17     3671                                   Nelson DeMille   \n18     7421                                Emily M. Danforth   \n19     8712                                      Jeff Kinney   \n\n                                                title        isbn13  \\\n0                            L'Éducation sentimentale  9.780140e+12   \n1                                            Schooled  9.780787e+12   \n2                                        Making Money  9.780061e+12   \n3   Ask and It Is Given: Learning to Manifest Your...  9.788190e+12   \n4                                              学園アリス１  9.781428e+12   \n5                                         Teacher Man  9.780743e+12   \n6                                            Politics  9.780486e+12   \n7                                        Night School  9.780804e+12   \n8   Savage Inequalities: Children in America's Sch...  9.780061e+12   \n9                                               Money  9.780099e+12   \n10                       The School for Good and Evil  9.780062e+12   \n11                       The Education of Little Tree  9.780826e+12   \n12                                 Unseen Academicals  9.780061e+12   \n13                                   Key of Knowledge  9.780739e+12   \n14                                             Nation  9.780061e+12   \n15                                  The Problem Child  9.780811e+12   \n16                                        Knowing God  9.780831e+12   \n17                                   The Charm School  9.780752e+12   \n18                   The Miseducation of Cameron Post  9.780062e+12   \n19                                         Old School  9.781420e+12   \n\n    in_to_read_list  final_score  \n0              True     2.582217  \n1             False     2.129030  \n2             False     1.963683  \n3             False     1.879961  \n4             False     1.868079  \n5             False     1.858160  \n6             False     1.815563  \n7             False     1.794176  \n8             False     1.786437  \n9             False     1.769389  \n10            False     1.763831  \n11            False     1.754247  \n12            False     1.728209  \n13            False     1.727002  \n14            False     1.720927  \n15            False     1.713811  \n16            False     1.699567  \n17            False     1.675017  \n18            False     1.674375  \n19            False     1.670329  ",
      "text/html": "<div>\n<style scoped>\n    .dataframe tbody tr th:only-of-type {\n        vertical-align: middle;\n    }\n\n    .dataframe tbody tr th {\n        vertical-align: top;\n    }\n\n    .dataframe thead th {\n        text-align: right;\n    }\n</style>\n<table border=\"1\" class=\"dataframe\">\n  <thead>\n    <tr style=\"text-align: right;\">\n      <th></th>\n      <th>book_id</th>\n      <th>authors</th>\n      <th>title</th>\n      <th>isbn13</th>\n      <th>in_to_read_list</th>\n      <th>final_score</th>\n    </tr>\n  </thead>\n  <tbody>\n    <tr>\n      <th>0</th>\n      <td>7952</td>\n      <td>Gustave Flaubert, Robert Baldick, Geoffrey Wall</td>\n      <td>L'Éducation sentimentale</td>\n      <td>9.780140e+12</td>\n      <td>True</td>\n      <td>2.582217</td>\n    </tr>\n    <tr>\n      <th>1</th>\n      <td>5452</td>\n      <td>Gordon Korman</td>\n      <td>Schooled</td>\n      <td>9.780787e+12</td>\n      <td>False</td>\n      <td>2.129030</td>\n    </tr>\n    <tr>\n      <th>2</th>\n      <td>2881</td>\n      <td>Terry Pratchett</td>\n      <td>Making Money</td>\n      <td>9.780061e+12</td>\n      <td>False</td>\n      <td>1.963683</td>\n    </tr>\n    <tr>\n      <th>3</th>\n      <td>4501</td>\n      <td>Esther Hicks, Jerry Hicks, Wayne W. Dyer</td>\n      <td>Ask and It Is Given: Learning to Manifest Your...</td>\n      <td>9.788190e+12</td>\n      <td>False</td>\n      <td>1.879961</td>\n    </tr>\n    <tr>\n      <th>4</th>\n      <td>6452</td>\n      <td>Tachibana Higuchi, 樋口 橘</td>\n      <td>学園アリス１</td>\n      <td>9.781428e+12</td>\n      <td>False</td>\n      <td>1.868079</td>\n    </tr>\n    <tr>\n      <th>5</th>\n      <td>3966</td>\n      <td>Frank McCourt</td>\n      <td>Teacher Man</td>\n      <td>9.780743e+12</td>\n      <td>False</td>\n      <td>1.858160</td>\n    </tr>\n    <tr>\n      <th>6</th>\n      <td>3949</td>\n      <td>Aristotle</td>\n      <td>Politics</td>\n      <td>9.780486e+12</td>\n      <td>False</td>\n      <td>1.815563</td>\n    </tr>\n    <tr>\n      <th>7</th>\n      <td>4875</td>\n      <td>Lee Child, Dick Hill</td>\n      <td>Night School</td>\n      <td>9.780804e+12</td>\n      <td>False</td>\n      <td>1.794176</td>\n    </tr>\n    <tr>\n      <th>8</th>\n      <td>6274</td>\n      <td>Jonathan Kozol</td>\n      <td>Savage Inequalities: Children in America's Sch...</td>\n      <td>9.780061e+12</td>\n      <td>False</td>\n      <td>1.786437</td>\n    </tr>\n    <tr>\n      <th>9</th>\n      <td>6184</td>\n      <td>Martin Amis</td>\n      <td>Money</td>\n      <td>9.780099e+12</td>\n      <td>False</td>\n      <td>1.769389</td>\n    </tr>\n    <tr>\n      <th>10</th>\n      <td>2886</td>\n      <td>Soman Chainani</td>\n      <td>The School for Good and Evil</td>\n      <td>9.780062e+12</td>\n      <td>False</td>\n      <td>1.763831</td>\n    </tr>\n    <tr>\n      <th>11</th>\n      <td>9006</td>\n      <td>Forrest Carter</td>\n      <td>The Education of Little Tree</td>\n      <td>9.780826e+12</td>\n      <td>False</td>\n      <td>1.754247</td>\n    </tr>\n    <tr>\n      <th>12</th>\n      <td>3654</td>\n      <td>Terry Pratchett</td>\n      <td>Unseen Academicals</td>\n      <td>9.780061e+12</td>\n      <td>False</td>\n      <td>1.728209</td>\n    </tr>\n    <tr>\n      <th>13</th>\n      <td>4680</td>\n      <td>Nora Roberts</td>\n      <td>Key of Knowledge</td>\n      <td>9.780739e+12</td>\n      <td>False</td>\n      <td>1.727002</td>\n    </tr>\n    <tr>\n      <th>14</th>\n      <td>4925</td>\n      <td>Terry Pratchett</td>\n      <td>Nation</td>\n      <td>9.780061e+12</td>\n      <td>False</td>\n      <td>1.720927</td>\n    </tr>\n    <tr>\n      <th>15</th>\n      <td>8173</td>\n      <td>Michael Buckley, Peter Ferguson</td>\n      <td>The Problem Child</td>\n      <td>9.780811e+12</td>\n      <td>False</td>\n      <td>1.713811</td>\n    </tr>\n    <tr>\n      <th>16</th>\n      <td>3392</td>\n      <td>J.I. Packer</td>\n      <td>Knowing God</td>\n      <td>9.780831e+12</td>\n      <td>False</td>\n      <td>1.699567</td>\n    </tr>\n    <tr>\n      <th>17</th>\n      <td>3671</td>\n      <td>Nelson DeMille</td>\n      <td>The Charm School</td>\n      <td>9.780752e+12</td>\n      <td>False</td>\n      <td>1.675017</td>\n    </tr>\n    <tr>\n      <th>18</th>\n      <td>7421</td>\n      <td>Emily M. Danforth</td>\n      <td>The Miseducation of Cameron Post</td>\n      <td>9.780062e+12</td>\n      <td>False</td>\n      <td>1.674375</td>\n    </tr>\n    <tr>\n      <th>19</th>\n      <td>8712</td>\n      <td>Jeff Kinney</td>\n      <td>Old School</td>\n      <td>9.781420e+12</td>\n      <td>False</td>\n      <td>1.670329</td>\n    </tr>\n  </tbody>\n</table>\n</div>"
     },
     "execution_count": 10,
     "metadata": {},
     "output_type": "execute_result"
    }
   ],
   "source": [
    "noneng # French and Japanese books present"
   ]
  },
  {
   "cell_type": "markdown",
   "metadata": {
    "pycharm": {
     "name": "#%% md\n"
    }
   },
   "source": [
    "It also supports non-English query."
   ]
  },
  {
   "cell_type": "code",
   "execution_count": 11,
   "metadata": {
    "pycharm": {
     "name": "#%%\n"
    }
   },
   "outputs": [],
   "source": [
    "noneng2 = search_eng.query(user_id=305, text=\"学園アリス１\", K=20, save_res=False) # not really sure what this Japanense phrase means though..."
   ]
  },
  {
   "cell_type": "code",
   "execution_count": 12,
   "metadata": {
    "pycharm": {
     "name": "#%%\n"
    }
   },
   "outputs": [
    {
     "data": {
      "text/plain": "    book_id                                            authors  \\\n0      6452                            Tachibana Higuchi, 樋口 橘   \n1      5493  Tetsuko Kuroyanagi, Chihiro Iwasaki, Dorothy B...   \n2      7974                     Shūsaku Endō, William Johnston   \n3      1183                      Hajime Isayama, Sheldon Drzka   \n4       649         Haruki Murakami, Jay Rubin, Philip Gabriel   \n5      1282                         Haruki Murakami, Jay Rubin   \n6      2537                                     Atsushi Ohkubo   \n7      1828                                   Rumiko Takahashi   \n8      5291                             Yuu Watase, Yuji Oniki   \n9      3538                                          أحمد مراد   \n10     6378                         Tomoko Hayakawa, David Ury   \n11     2460                             Kazue Kato, John Werry   \n12     9983                                         Kazue Kato   \n13     9906                                       Bisco Hatori   \n14     9319                                       Bisco Hatori   \n15     8172                                       Bisco Hatori   \n16     9553         Hajime Isayama, Hikaru Suruga, Gan Sunaaku   \n17     4851                                    Kyousuke Motomi   \n18     9161                                       Bisco Hatori   \n19     9598                                     Atsushi Ohkubo   \n\n                             title        isbn13  in_to_read_list  final_score  \n0                           学園アリス１  9.781428e+12            False     3.759786  \n1                       窓ぎわのトットちゃん  9.784770e+12            False     2.402668  \n2                               沈黙  9.780801e+12            False     2.241901  \n3                          進撃の巨人 1  9.781613e+12            False     2.060279  \n4   いちきゅうはちよん [Ichi-Kyū-Hachi-Yon]  9.780308e+12             True     2.057264  \n5             アフターダーク [Afutā dāku]  9.780307e+12             True     2.008034  \n6                        ソウルイーター 1  9.780760e+12            False     1.991549  \n7                            犬夜叉 1  9.781569e+12            False     1.878322  \n8                          ふしぎ遊戯 1  9.781569e+12            False     1.860324  \n9                          ڤيرتيجو           NaN            False     1.833764  \n10                      ヤマトナデシコ七変化  9.780345e+12            False     1.833684  \n11                         青の祓魔師 1  9.781422e+12            False     1.828983  \n12                         青の祓魔師 2  9.782850e+12            False     1.823753  \n13                      桜蘭高校ホスト部 4  9.781422e+12            False     1.808360  \n14                     桜蘭高校ホスト部 15  9.781422e+12            False     1.797785  \n15                      桜蘭高校ホスト部 2  9.781591e+12            False     1.760252  \n16                  進撃の巨人 悔いなき選択 1  9.781613e+12            False     1.760123  \n17                        電撃デイジー 1  9.789792e+12            False     1.755261  \n18                      桜蘭高校ホスト部 3  9.781422e+12            False     1.745201  \n19                       ソウルイーター 2  9.780760e+12            False     1.736210  ",
      "text/html": "<div>\n<style scoped>\n    .dataframe tbody tr th:only-of-type {\n        vertical-align: middle;\n    }\n\n    .dataframe tbody tr th {\n        vertical-align: top;\n    }\n\n    .dataframe thead th {\n        text-align: right;\n    }\n</style>\n<table border=\"1\" class=\"dataframe\">\n  <thead>\n    <tr style=\"text-align: right;\">\n      <th></th>\n      <th>book_id</th>\n      <th>authors</th>\n      <th>title</th>\n      <th>isbn13</th>\n      <th>in_to_read_list</th>\n      <th>final_score</th>\n    </tr>\n  </thead>\n  <tbody>\n    <tr>\n      <th>0</th>\n      <td>6452</td>\n      <td>Tachibana Higuchi, 樋口 橘</td>\n      <td>学園アリス１</td>\n      <td>9.781428e+12</td>\n      <td>False</td>\n      <td>3.759786</td>\n    </tr>\n    <tr>\n      <th>1</th>\n      <td>5493</td>\n      <td>Tetsuko Kuroyanagi, Chihiro Iwasaki, Dorothy B...</td>\n      <td>窓ぎわのトットちゃん</td>\n      <td>9.784770e+12</td>\n      <td>False</td>\n      <td>2.402668</td>\n    </tr>\n    <tr>\n      <th>2</th>\n      <td>7974</td>\n      <td>Shūsaku Endō, William Johnston</td>\n      <td>沈黙</td>\n      <td>9.780801e+12</td>\n      <td>False</td>\n      <td>2.241901</td>\n    </tr>\n    <tr>\n      <th>3</th>\n      <td>1183</td>\n      <td>Hajime Isayama, Sheldon Drzka</td>\n      <td>進撃の巨人 1</td>\n      <td>9.781613e+12</td>\n      <td>False</td>\n      <td>2.060279</td>\n    </tr>\n    <tr>\n      <th>4</th>\n      <td>649</td>\n      <td>Haruki Murakami, Jay Rubin, Philip Gabriel</td>\n      <td>いちきゅうはちよん [Ichi-Kyū-Hachi-Yon]</td>\n      <td>9.780308e+12</td>\n      <td>True</td>\n      <td>2.057264</td>\n    </tr>\n    <tr>\n      <th>5</th>\n      <td>1282</td>\n      <td>Haruki Murakami, Jay Rubin</td>\n      <td>アフターダーク [Afutā dāku]</td>\n      <td>9.780307e+12</td>\n      <td>True</td>\n      <td>2.008034</td>\n    </tr>\n    <tr>\n      <th>6</th>\n      <td>2537</td>\n      <td>Atsushi Ohkubo</td>\n      <td>ソウルイーター 1</td>\n      <td>9.780760e+12</td>\n      <td>False</td>\n      <td>1.991549</td>\n    </tr>\n    <tr>\n      <th>7</th>\n      <td>1828</td>\n      <td>Rumiko Takahashi</td>\n      <td>犬夜叉 1</td>\n      <td>9.781569e+12</td>\n      <td>False</td>\n      <td>1.878322</td>\n    </tr>\n    <tr>\n      <th>8</th>\n      <td>5291</td>\n      <td>Yuu Watase, Yuji Oniki</td>\n      <td>ふしぎ遊戯 1</td>\n      <td>9.781569e+12</td>\n      <td>False</td>\n      <td>1.860324</td>\n    </tr>\n    <tr>\n      <th>9</th>\n      <td>3538</td>\n      <td>أحمد مراد</td>\n      <td>ڤيرتيجو</td>\n      <td>NaN</td>\n      <td>False</td>\n      <td>1.833764</td>\n    </tr>\n    <tr>\n      <th>10</th>\n      <td>6378</td>\n      <td>Tomoko Hayakawa, David Ury</td>\n      <td>ヤマトナデシコ七変化</td>\n      <td>9.780345e+12</td>\n      <td>False</td>\n      <td>1.833684</td>\n    </tr>\n    <tr>\n      <th>11</th>\n      <td>2460</td>\n      <td>Kazue Kato, John Werry</td>\n      <td>青の祓魔師 1</td>\n      <td>9.781422e+12</td>\n      <td>False</td>\n      <td>1.828983</td>\n    </tr>\n    <tr>\n      <th>12</th>\n      <td>9983</td>\n      <td>Kazue Kato</td>\n      <td>青の祓魔師 2</td>\n      <td>9.782850e+12</td>\n      <td>False</td>\n      <td>1.823753</td>\n    </tr>\n    <tr>\n      <th>13</th>\n      <td>9906</td>\n      <td>Bisco Hatori</td>\n      <td>桜蘭高校ホスト部 4</td>\n      <td>9.781422e+12</td>\n      <td>False</td>\n      <td>1.808360</td>\n    </tr>\n    <tr>\n      <th>14</th>\n      <td>9319</td>\n      <td>Bisco Hatori</td>\n      <td>桜蘭高校ホスト部 15</td>\n      <td>9.781422e+12</td>\n      <td>False</td>\n      <td>1.797785</td>\n    </tr>\n    <tr>\n      <th>15</th>\n      <td>8172</td>\n      <td>Bisco Hatori</td>\n      <td>桜蘭高校ホスト部 2</td>\n      <td>9.781591e+12</td>\n      <td>False</td>\n      <td>1.760252</td>\n    </tr>\n    <tr>\n      <th>16</th>\n      <td>9553</td>\n      <td>Hajime Isayama, Hikaru Suruga, Gan Sunaaku</td>\n      <td>進撃の巨人 悔いなき選択 1</td>\n      <td>9.781613e+12</td>\n      <td>False</td>\n      <td>1.760123</td>\n    </tr>\n    <tr>\n      <th>17</th>\n      <td>4851</td>\n      <td>Kyousuke Motomi</td>\n      <td>電撃デイジー 1</td>\n      <td>9.789792e+12</td>\n      <td>False</td>\n      <td>1.755261</td>\n    </tr>\n    <tr>\n      <th>18</th>\n      <td>9161</td>\n      <td>Bisco Hatori</td>\n      <td>桜蘭高校ホスト部 3</td>\n      <td>9.781422e+12</td>\n      <td>False</td>\n      <td>1.745201</td>\n    </tr>\n    <tr>\n      <th>19</th>\n      <td>9598</td>\n      <td>Atsushi Ohkubo</td>\n      <td>ソウルイーター 2</td>\n      <td>9.780760e+12</td>\n      <td>False</td>\n      <td>1.736210</td>\n    </tr>\n  </tbody>\n</table>\n</div>"
     },
     "execution_count": 12,
     "metadata": {},
     "output_type": "execute_result"
    }
   ],
   "source": [
    "noneng2"
   ]
  },
  {
   "cell_type": "markdown",
   "metadata": {
    "pycharm": {
     "name": "#%% md\n"
    }
   },
   "source": [
    "## Personalized\n",
    "Different people tend to get search results in slightly different orders, based on their past reading habit and future reading plan, abeit same query text."
   ]
  },
  {
   "cell_type": "code",
   "execution_count": 13,
   "metadata": {
    "pycharm": {
     "name": "#%%\n"
    }
   },
   "outputs": [],
   "source": [
    "p1 = search_eng.query(user_id=233, text=\"hello world\", save_res=False)\n",
    "p2 = search_eng.query(user_id=1024, text=\"hello world\", save_res=False)"
   ]
  },
  {
   "cell_type": "code",
   "execution_count": 14,
   "metadata": {
    "pycharm": {
     "name": "#%%\n"
    }
   },
   "outputs": [
    {
     "data": {
      "text/plain": "   book_id           authors                title        isbn13  \\\n0     2008          Susan Ee          World After  9.781445e+12   \n1     7455    Paulette Jiles    News of the World  9.780062e+12   \n2     6676  Mhairi McFarlane  You Had Me At Hello  9.780007e+12   \n3     4725   Sonia Sotomayor     My Beloved World  9.780308e+12   \n4     7933      Marcus Sakey       A Better World           NaN   \n\n   in_to_read_list  final_score  \n0            False     2.166993  \n1            False     1.971523  \n2            False     1.940438  \n3            False     1.819182  \n4            False     1.715802  ",
      "text/html": "<div>\n<style scoped>\n    .dataframe tbody tr th:only-of-type {\n        vertical-align: middle;\n    }\n\n    .dataframe tbody tr th {\n        vertical-align: top;\n    }\n\n    .dataframe thead th {\n        text-align: right;\n    }\n</style>\n<table border=\"1\" class=\"dataframe\">\n  <thead>\n    <tr style=\"text-align: right;\">\n      <th></th>\n      <th>book_id</th>\n      <th>authors</th>\n      <th>title</th>\n      <th>isbn13</th>\n      <th>in_to_read_list</th>\n      <th>final_score</th>\n    </tr>\n  </thead>\n  <tbody>\n    <tr>\n      <th>0</th>\n      <td>2008</td>\n      <td>Susan Ee</td>\n      <td>World After</td>\n      <td>9.781445e+12</td>\n      <td>False</td>\n      <td>2.166993</td>\n    </tr>\n    <tr>\n      <th>1</th>\n      <td>7455</td>\n      <td>Paulette Jiles</td>\n      <td>News of the World</td>\n      <td>9.780062e+12</td>\n      <td>False</td>\n      <td>1.971523</td>\n    </tr>\n    <tr>\n      <th>2</th>\n      <td>6676</td>\n      <td>Mhairi McFarlane</td>\n      <td>You Had Me At Hello</td>\n      <td>9.780007e+12</td>\n      <td>False</td>\n      <td>1.940438</td>\n    </tr>\n    <tr>\n      <th>3</th>\n      <td>4725</td>\n      <td>Sonia Sotomayor</td>\n      <td>My Beloved World</td>\n      <td>9.780308e+12</td>\n      <td>False</td>\n      <td>1.819182</td>\n    </tr>\n    <tr>\n      <th>4</th>\n      <td>7933</td>\n      <td>Marcus Sakey</td>\n      <td>A Better World</td>\n      <td>NaN</td>\n      <td>False</td>\n      <td>1.715802</td>\n    </tr>\n  </tbody>\n</table>\n</div>"
     },
     "execution_count": 14,
     "metadata": {},
     "output_type": "execute_result"
    }
   ],
   "source": [
    "p1.head()"
   ]
  },
  {
   "cell_type": "code",
   "execution_count": 15,
   "metadata": {
    "pycharm": {
     "name": "#%%\n"
    }
   },
   "outputs": [
    {
     "data": {
      "text/plain": "   book_id           authors                title        isbn13  \\\n0     2008          Susan Ee          World After  9.781445e+12   \n1     6676  Mhairi McFarlane  You Had Me At Hello  9.780007e+12   \n2     7933      Marcus Sakey       A Better World           NaN   \n3     7455    Paulette Jiles    News of the World  9.780062e+12   \n4     4725   Sonia Sotomayor     My Beloved World  9.780308e+12   \n\n   in_to_read_list  final_score  \n0            False     1.961001  \n1            False     1.895469  \n2            False     1.814291  \n3            False     1.789645  \n4            False     1.765323  ",
      "text/html": "<div>\n<style scoped>\n    .dataframe tbody tr th:only-of-type {\n        vertical-align: middle;\n    }\n\n    .dataframe tbody tr th {\n        vertical-align: top;\n    }\n\n    .dataframe thead th {\n        text-align: right;\n    }\n</style>\n<table border=\"1\" class=\"dataframe\">\n  <thead>\n    <tr style=\"text-align: right;\">\n      <th></th>\n      <th>book_id</th>\n      <th>authors</th>\n      <th>title</th>\n      <th>isbn13</th>\n      <th>in_to_read_list</th>\n      <th>final_score</th>\n    </tr>\n  </thead>\n  <tbody>\n    <tr>\n      <th>0</th>\n      <td>2008</td>\n      <td>Susan Ee</td>\n      <td>World After</td>\n      <td>9.781445e+12</td>\n      <td>False</td>\n      <td>1.961001</td>\n    </tr>\n    <tr>\n      <th>1</th>\n      <td>6676</td>\n      <td>Mhairi McFarlane</td>\n      <td>You Had Me At Hello</td>\n      <td>9.780007e+12</td>\n      <td>False</td>\n      <td>1.895469</td>\n    </tr>\n    <tr>\n      <th>2</th>\n      <td>7933</td>\n      <td>Marcus Sakey</td>\n      <td>A Better World</td>\n      <td>NaN</td>\n      <td>False</td>\n      <td>1.814291</td>\n    </tr>\n    <tr>\n      <th>3</th>\n      <td>7455</td>\n      <td>Paulette Jiles</td>\n      <td>News of the World</td>\n      <td>9.780062e+12</td>\n      <td>False</td>\n      <td>1.789645</td>\n    </tr>\n    <tr>\n      <th>4</th>\n      <td>4725</td>\n      <td>Sonia Sotomayor</td>\n      <td>My Beloved World</td>\n      <td>9.780308e+12</td>\n      <td>False</td>\n      <td>1.765323</td>\n    </tr>\n  </tbody>\n</table>\n</div>"
     },
     "execution_count": 15,
     "metadata": {},
     "output_type": "execute_result"
    }
   ],
   "source": [
    "p2.head()"
   ]
  },
  {
   "cell_type": "markdown",
   "metadata": {
    "pycharm": {
     "name": "#%% md\n"
    }
   },
   "source": [
    "## To-read List\n",
    "\n",
    "The model considers the book on one's to-read list, and of course it is personalized based on one's past ratings. Let's see what it returns if we do not put anything in the query."
   ]
  },
  {
   "cell_type": "code",
   "execution_count": 16,
   "metadata": {
    "pycharm": {
     "name": "#%%\n"
    }
   },
   "outputs": [],
   "source": [
    "res3 = search_eng.query(user_id=309, text=\"\", K=10_000, save_res=False)"
   ]
  },
  {
   "cell_type": "code",
   "execution_count": 17,
   "metadata": {
    "pycharm": {
     "name": "#%%\n"
    }
   },
   "outputs": [
    {
     "data": {
      "text/plain": "    book_id                                        authors  \\\n0        87                     Elie Wiesel, Marion Wiesel   \n1       181                                  Truman Capote   \n2       289                                  Richard Adams   \n3        57                                  Sue Monk Kidd   \n4       426               John Kennedy Toole, Walker Percy   \n5        36                                     Lois Lowry   \n6       118                                        Amy Tan   \n7      1223                                   Isaac Asimov   \n8       385                                     Susan Cain   \n9       129                                      Ken Kesey   \n10     1198                               Hanya Yanagihara   \n11     7290                                   James  Jones   \n12      357               Erich Maria Remarque, A.W. Wheen   \n13     2570                                Margaret Atwood   \n14     4378                               Brian  McClellan   \n15     6310                                  Gavin Extence   \n16       35                   Paulo Coelho, Alan R. Clarke   \n17      614  Franz Kafka, Edwin Muir, Willa Muir, Max Brod   \n18     5954                                  Paul Tremblay   \n19      794                                   Stephen King   \n\n                                                title        isbn13  \\\n0                             Un di Velt Hot Geshvign  9.780375e+12   \n1                                       In Cold Blood  9.780680e+12   \n2                                      Watership Down  9.780380e+12   \n3                             The Secret Life of Bees  9.780142e+12   \n4                             A Confederacy of Dunces  9.780802e+12   \n5                                           The Giver  9.780386e+12   \n6                                   The Joy Luck Club  9.780143e+12   \n7                              The Foundation Trilogy  9.780381e+12   \n8   Quiet: The Power of Introverts in a World that...  9.780307e+12   \n9                     One Flew Over the Cuckoo's Nest  9.780451e+12   \n10                                      A Little Life  9.780386e+12   \n11                              From Here to Eternity  9.780517e+12   \n12                             Im Westen nichts Neues  9.780449e+12   \n13                                          MaddAddam  9.780386e+12   \n14                                   Promise of Blood  9.780316e+12   \n15                     The Universe Versus Alex Woods  9.780316e+12   \n16                                       O Alquimista  9.780061e+12   \n17                                         Der Prozeß  9.780099e+12   \n18                              A Head Full of Ghosts  9.780062e+12   \n19                                       Doctor Sleep  9.781477e+12   \n\n    in_to_read_list  final_score  \n0              True     0.313195  \n1              True     0.293224  \n2              True     0.289965  \n3              True     0.285388  \n4              True     0.285237  \n5              True     0.282680  \n6              True     0.281697  \n7              True     0.280561  \n8              True     0.279951  \n9              True     0.278756  \n10             True     0.275869  \n11             True     0.275590  \n12             True     0.274877  \n13             True     0.274070  \n14             True     0.272871  \n15             True     0.271177  \n16             True     0.271065  \n17             True     0.269802  \n18             True     0.267223  \n19             True     0.265412  ",
      "text/html": "<div>\n<style scoped>\n    .dataframe tbody tr th:only-of-type {\n        vertical-align: middle;\n    }\n\n    .dataframe tbody tr th {\n        vertical-align: top;\n    }\n\n    .dataframe thead th {\n        text-align: right;\n    }\n</style>\n<table border=\"1\" class=\"dataframe\">\n  <thead>\n    <tr style=\"text-align: right;\">\n      <th></th>\n      <th>book_id</th>\n      <th>authors</th>\n      <th>title</th>\n      <th>isbn13</th>\n      <th>in_to_read_list</th>\n      <th>final_score</th>\n    </tr>\n  </thead>\n  <tbody>\n    <tr>\n      <th>0</th>\n      <td>87</td>\n      <td>Elie Wiesel, Marion Wiesel</td>\n      <td>Un di Velt Hot Geshvign</td>\n      <td>9.780375e+12</td>\n      <td>True</td>\n      <td>0.313195</td>\n    </tr>\n    <tr>\n      <th>1</th>\n      <td>181</td>\n      <td>Truman Capote</td>\n      <td>In Cold Blood</td>\n      <td>9.780680e+12</td>\n      <td>True</td>\n      <td>0.293224</td>\n    </tr>\n    <tr>\n      <th>2</th>\n      <td>289</td>\n      <td>Richard Adams</td>\n      <td>Watership Down</td>\n      <td>9.780380e+12</td>\n      <td>True</td>\n      <td>0.289965</td>\n    </tr>\n    <tr>\n      <th>3</th>\n      <td>57</td>\n      <td>Sue Monk Kidd</td>\n      <td>The Secret Life of Bees</td>\n      <td>9.780142e+12</td>\n      <td>True</td>\n      <td>0.285388</td>\n    </tr>\n    <tr>\n      <th>4</th>\n      <td>426</td>\n      <td>John Kennedy Toole, Walker Percy</td>\n      <td>A Confederacy of Dunces</td>\n      <td>9.780802e+12</td>\n      <td>True</td>\n      <td>0.285237</td>\n    </tr>\n    <tr>\n      <th>5</th>\n      <td>36</td>\n      <td>Lois Lowry</td>\n      <td>The Giver</td>\n      <td>9.780386e+12</td>\n      <td>True</td>\n      <td>0.282680</td>\n    </tr>\n    <tr>\n      <th>6</th>\n      <td>118</td>\n      <td>Amy Tan</td>\n      <td>The Joy Luck Club</td>\n      <td>9.780143e+12</td>\n      <td>True</td>\n      <td>0.281697</td>\n    </tr>\n    <tr>\n      <th>7</th>\n      <td>1223</td>\n      <td>Isaac Asimov</td>\n      <td>The Foundation Trilogy</td>\n      <td>9.780381e+12</td>\n      <td>True</td>\n      <td>0.280561</td>\n    </tr>\n    <tr>\n      <th>8</th>\n      <td>385</td>\n      <td>Susan Cain</td>\n      <td>Quiet: The Power of Introverts in a World that...</td>\n      <td>9.780307e+12</td>\n      <td>True</td>\n      <td>0.279951</td>\n    </tr>\n    <tr>\n      <th>9</th>\n      <td>129</td>\n      <td>Ken Kesey</td>\n      <td>One Flew Over the Cuckoo's Nest</td>\n      <td>9.780451e+12</td>\n      <td>True</td>\n      <td>0.278756</td>\n    </tr>\n    <tr>\n      <th>10</th>\n      <td>1198</td>\n      <td>Hanya Yanagihara</td>\n      <td>A Little Life</td>\n      <td>9.780386e+12</td>\n      <td>True</td>\n      <td>0.275869</td>\n    </tr>\n    <tr>\n      <th>11</th>\n      <td>7290</td>\n      <td>James  Jones</td>\n      <td>From Here to Eternity</td>\n      <td>9.780517e+12</td>\n      <td>True</td>\n      <td>0.275590</td>\n    </tr>\n    <tr>\n      <th>12</th>\n      <td>357</td>\n      <td>Erich Maria Remarque, A.W. Wheen</td>\n      <td>Im Westen nichts Neues</td>\n      <td>9.780449e+12</td>\n      <td>True</td>\n      <td>0.274877</td>\n    </tr>\n    <tr>\n      <th>13</th>\n      <td>2570</td>\n      <td>Margaret Atwood</td>\n      <td>MaddAddam</td>\n      <td>9.780386e+12</td>\n      <td>True</td>\n      <td>0.274070</td>\n    </tr>\n    <tr>\n      <th>14</th>\n      <td>4378</td>\n      <td>Brian  McClellan</td>\n      <td>Promise of Blood</td>\n      <td>9.780316e+12</td>\n      <td>True</td>\n      <td>0.272871</td>\n    </tr>\n    <tr>\n      <th>15</th>\n      <td>6310</td>\n      <td>Gavin Extence</td>\n      <td>The Universe Versus Alex Woods</td>\n      <td>9.780316e+12</td>\n      <td>True</td>\n      <td>0.271177</td>\n    </tr>\n    <tr>\n      <th>16</th>\n      <td>35</td>\n      <td>Paulo Coelho, Alan R. Clarke</td>\n      <td>O Alquimista</td>\n      <td>9.780061e+12</td>\n      <td>True</td>\n      <td>0.271065</td>\n    </tr>\n    <tr>\n      <th>17</th>\n      <td>614</td>\n      <td>Franz Kafka, Edwin Muir, Willa Muir, Max Brod</td>\n      <td>Der Prozeß</td>\n      <td>9.780099e+12</td>\n      <td>True</td>\n      <td>0.269802</td>\n    </tr>\n    <tr>\n      <th>18</th>\n      <td>5954</td>\n      <td>Paul Tremblay</td>\n      <td>A Head Full of Ghosts</td>\n      <td>9.780062e+12</td>\n      <td>True</td>\n      <td>0.267223</td>\n    </tr>\n    <tr>\n      <th>19</th>\n      <td>794</td>\n      <td>Stephen King</td>\n      <td>Doctor Sleep</td>\n      <td>9.781477e+12</td>\n      <td>True</td>\n      <td>0.265412</td>\n    </tr>\n  </tbody>\n</table>\n</div>"
     },
     "execution_count": 17,
     "metadata": {},
     "output_type": "execute_result"
    }
   ],
   "source": [
    "res3.head(20) # Top 20 recommended books are all in user 309's to-read list!"
   ]
  }
 ],
 "metadata": {
  "kernelspec": {
   "display_name": "Python 3.10.7 64-bit",
   "language": "python",
   "name": "python3"
  },
  "language_info": {
   "codemirror_mode": {
    "name": "ipython",
    "version": 3
   },
   "file_extension": ".py",
   "mimetype": "text/x-python",
   "name": "python",
   "nbconvert_exporter": "python",
   "pygments_lexer": "ipython3",
   "version": "3.10.7"
  },
  "orig_nbformat": 4,
  "vscode": {
   "interpreter": {
    "hash": "15a3a1d02b16c5f0f7818f79310520e3bf618f6f01b420b9dd242659c73da7ae"
   }
  }
 },
 "nbformat": 4,
 "nbformat_minor": 2
}